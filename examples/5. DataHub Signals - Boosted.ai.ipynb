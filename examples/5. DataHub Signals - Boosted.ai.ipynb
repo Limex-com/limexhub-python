{
 "cells": [
  {
   "cell_type": "code",
   "execution_count": 1,
   "id": "2cb02b43",
   "metadata": {},
   "outputs": [
    {
     "data": {
      "text/html": [
       "<div>\n",
       "<style scoped>\n",
       "    .dataframe tbody tr th:only-of-type {\n",
       "        vertical-align: middle;\n",
       "    }\n",
       "\n",
       "    .dataframe tbody tr th {\n",
       "        vertical-align: top;\n",
       "    }\n",
       "\n",
       "    .dataframe thead th {\n",
       "        text-align: right;\n",
       "    }\n",
       "</style>\n",
       "<table border=\"1\" class=\"dataframe\">\n",
       "  <thead>\n",
       "    <tr style=\"text-align: right;\">\n",
       "      <th></th>\n",
       "      <th>id</th>\n",
       "      <th>name</th>\n",
       "      <th>modelgroup</th>\n",
       "    </tr>\n",
       "  </thead>\n",
       "  <tbody>\n",
       "    <tr>\n",
       "      <th>0</th>\n",
       "      <td>50678d2d-fd0f-4841-aaee-7feac83cb3a1</td>\n",
       "      <td>Weekly Ideas</td>\n",
       "      <td>S&amp;P 500 Tactical</td>\n",
       "    </tr>\n",
       "    <tr>\n",
       "      <th>1</th>\n",
       "      <td>a5f9f60f-a891-41e7-a001-b95ee0dfb10c</td>\n",
       "      <td>Weekly Ideas</td>\n",
       "      <td>S&amp;P 500 Tactical Financials</td>\n",
       "    </tr>\n",
       "    <tr>\n",
       "      <th>2</th>\n",
       "      <td>7e3af8f1-17d1-419f-9ad3-08794235ef5b</td>\n",
       "      <td>Weekly Ideas</td>\n",
       "      <td>R1K Tactical Real Estate</td>\n",
       "    </tr>\n",
       "  </tbody>\n",
       "</table>\n",
       "</div>"
      ],
      "text/plain": [
       "                                     id          name  \\\n",
       "0  50678d2d-fd0f-4841-aaee-7feac83cb3a1  Weekly Ideas   \n",
       "1  a5f9f60f-a891-41e7-a001-b95ee0dfb10c  Weekly Ideas   \n",
       "2  7e3af8f1-17d1-419f-9ad3-08794235ef5b  Weekly Ideas   \n",
       "\n",
       "                    modelgroup  \n",
       "0             S&P 500 Tactical  \n",
       "1  S&P 500 Tactical Financials  \n",
       "2     R1K Tactical Real Estate  "
      ]
     },
     "execution_count": 1,
     "metadata": {},
     "output_type": "execute_result"
    }
   ],
   "source": [
    "import pandas as pd\n",
    "token = 'F3YFGYGF2GF9G9G'\n",
    "symbol = 'BRX'\n",
    "from_date = '2023-07-31'\n",
    "to_date = '2023-08-24'\n",
    "boostedmodels = pd.read_json('https://hub.limex.com/v1/models?vendor=boosted&token='+token)\n",
    "boostedmodels.head(3)"
   ]
  },
  {
   "cell_type": "code",
   "execution_count": 2,
   "id": "355020ea",
   "metadata": {},
   "outputs": [
    {
     "data": {
      "text/html": [
       "<div>\n",
       "<style scoped>\n",
       "    .dataframe tbody tr th:only-of-type {\n",
       "        vertical-align: middle;\n",
       "    }\n",
       "\n",
       "    .dataframe tbody tr th {\n",
       "        vertical-align: top;\n",
       "    }\n",
       "\n",
       "    .dataframe thead th {\n",
       "        text-align: right;\n",
       "    }\n",
       "</style>\n",
       "<table border=\"1\" class=\"dataframe\">\n",
       "  <thead>\n",
       "    <tr style=\"text-align: right;\">\n",
       "      <th></th>\n",
       "      <th>isin</th>\n",
       "      <th>symbol</th>\n",
       "      <th>company_name</th>\n",
       "      <th>country</th>\n",
       "      <th>currency</th>\n",
       "      <th>allocation</th>\n",
       "      <th>trade_date</th>\n",
       "    </tr>\n",
       "  </thead>\n",
       "  <tbody>\n",
       "    <tr>\n",
       "      <th>0</th>\n",
       "      <td>US67066G1040</td>\n",
       "      <td>NVDA</td>\n",
       "      <td>NVIDIA Corporation</td>\n",
       "      <td>USA</td>\n",
       "      <td>USD</td>\n",
       "      <td>0.007760</td>\n",
       "      <td>2022-01-03</td>\n",
       "    </tr>\n",
       "    <tr>\n",
       "      <th>1</th>\n",
       "      <td>US1011371077</td>\n",
       "      <td>BSX</td>\n",
       "      <td>Boston Scientific Corporation</td>\n",
       "      <td>USA</td>\n",
       "      <td>USD</td>\n",
       "      <td>0.006261</td>\n",
       "      <td>2022-01-03</td>\n",
       "    </tr>\n",
       "    <tr>\n",
       "      <th>2</th>\n",
       "      <td>US0905722072</td>\n",
       "      <td>BIO</td>\n",
       "      <td>Bio-Rad Laboratories, Inc.</td>\n",
       "      <td>USA</td>\n",
       "      <td>USD</td>\n",
       "      <td>0.000000</td>\n",
       "      <td>2022-01-03</td>\n",
       "    </tr>\n",
       "  </tbody>\n",
       "</table>\n",
       "</div>"
      ],
      "text/plain": [
       "           isin symbol                   company_name country currency  \\\n",
       "0  US67066G1040   NVDA             NVIDIA Corporation     USA      USD   \n",
       "1  US1011371077    BSX  Boston Scientific Corporation     USA      USD   \n",
       "2  US0905722072    BIO     Bio-Rad Laboratories, Inc.     USA      USD   \n",
       "\n",
       "   allocation  trade_date  \n",
       "0    0.007760  2022-01-03  \n",
       "1    0.006261  2022-01-03  \n",
       "2    0.000000  2022-01-03  "
      ]
     },
     "execution_count": 2,
     "metadata": {},
     "output_type": "execute_result"
    }
   ],
   "source": [
    "boostedsignals = pd.read_json('https://hub.limex.com/v1/signals?vendor=boosted&token='+token+'&model=50678d2d-fd0f-4841-aaee-7feac83cb3a1&from=2022-01-01')\n",
    "boostedsignals.head(3)"
   ]
  },
  {
   "cell_type": "code",
   "execution_count": null,
   "id": "09db62d8",
   "metadata": {},
   "outputs": [],
   "source": []
  }
 ],
 "metadata": {
  "kernelspec": {
   "display_name": "Python 3 (ipykernel)",
   "language": "python",
   "name": "python3"
  },
  "language_info": {
   "codemirror_mode": {
    "name": "ipython",
    "version": 3
   },
   "file_extension": ".py",
   "mimetype": "text/x-python",
   "name": "python",
   "nbconvert_exporter": "python",
   "pygments_lexer": "ipython3",
   "version": "3.11.5"
  }
 },
 "nbformat": 4,
 "nbformat_minor": 5
}
