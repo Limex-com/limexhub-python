{
 "cells": [
  {
   "cell_type": "code",
   "execution_count": 2,
   "id": "73e0fa6d",
   "metadata": {},
   "outputs": [
    {
     "data": {
      "text/html": [
       "<div>\n",
       "<style scoped>\n",
       "    .dataframe tbody tr th:only-of-type {\n",
       "        vertical-align: middle;\n",
       "    }\n",
       "\n",
       "    .dataframe tbody tr th {\n",
       "        vertical-align: top;\n",
       "    }\n",
       "\n",
       "    .dataframe thead th {\n",
       "        text-align: right;\n",
       "    }\n",
       "</style>\n",
       "<table border=\"1\" class=\"dataframe\">\n",
       "  <thead>\n",
       "    <tr style=\"text-align: right;\">\n",
       "      <th></th>\n",
       "      <th>ts</th>\n",
       "      <th>o</th>\n",
       "      <th>h</th>\n",
       "      <th>l</th>\n",
       "      <th>c</th>\n",
       "      <th>v</th>\n",
       "    </tr>\n",
       "  </thead>\n",
       "  <tbody>\n",
       "    <tr>\n",
       "      <th>0</th>\n",
       "      <td>2023-08-23T07:00:00</td>\n",
       "      <td>21.06</td>\n",
       "      <td>21.505</td>\n",
       "      <td>20.970</td>\n",
       "      <td>21.47</td>\n",
       "      <td>1699922</td>\n",
       "    </tr>\n",
       "    <tr>\n",
       "      <th>1</th>\n",
       "      <td>2023-08-22T07:00:00</td>\n",
       "      <td>21.17</td>\n",
       "      <td>21.270</td>\n",
       "      <td>20.900</td>\n",
       "      <td>20.98</td>\n",
       "      <td>1235945</td>\n",
       "    </tr>\n",
       "    <tr>\n",
       "      <th>2</th>\n",
       "      <td>2023-08-21T07:00:00</td>\n",
       "      <td>21.50</td>\n",
       "      <td>21.540</td>\n",
       "      <td>20.955</td>\n",
       "      <td>21.04</td>\n",
       "      <td>791685</td>\n",
       "    </tr>\n",
       "  </tbody>\n",
       "</table>\n",
       "</div>"
      ],
      "text/plain": [
       "                    ts      o       h       l      c        v\n",
       "0  2023-08-23T07:00:00  21.06  21.505  20.970  21.47  1699922\n",
       "1  2023-08-22T07:00:00  21.17  21.270  20.900  20.98  1235945\n",
       "2  2023-08-21T07:00:00  21.50  21.540  20.955  21.04   791685"
      ]
     },
     "execution_count": 2,
     "metadata": {},
     "output_type": "execute_result"
    }
   ],
   "source": [
    "import pandas as pd\n",
    "token = 'F3YFGYGF2GF9G9G'\n",
    "symbol = 'BRX'\n",
    "from_date = '2023-07-31'\n",
    "to_date = '2023-08-24'\n",
    "candles = pd.read_json('https://hub.limex.com/v1/candles?symbol='+symbol+'&token='+token+'&from='+from_date+'&to='+to_date)\n",
    "candles.head(3)"
   ]
  },
  {
   "cell_type": "code",
   "execution_count": null,
   "id": "ef814da0",
   "metadata": {},
   "outputs": [],
   "source": []
  }
 ],
 "metadata": {
  "kernelspec": {
   "display_name": "Python 3 (ipykernel)",
   "language": "python",
   "name": "python3"
  },
  "language_info": {
   "codemirror_mode": {
    "name": "ipython",
    "version": 3
   },
   "file_extension": ".py",
   "mimetype": "text/x-python",
   "name": "python",
   "nbconvert_exporter": "python",
   "pygments_lexer": "ipython3",
   "version": "3.11.5"
  }
 },
 "nbformat": 4,
 "nbformat_minor": 5
}
